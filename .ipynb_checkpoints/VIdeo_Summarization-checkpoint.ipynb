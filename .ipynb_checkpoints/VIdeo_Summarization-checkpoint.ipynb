{
 "cells": [
  {
   "cell_type": "code",
   "execution_count": 1,
   "id": "4213a88c",
   "metadata": {},
   "outputs": [],
   "source": [
    "import av\n",
    "import numpy as np\n",
    "from PIL import Image\n",
    "# from huggingface_hub import hf_hub_download\n",
    "from transformers import AutoProcessor, AutoModelForCausalLM\n",
    "from moviepy.video.io.ffmpeg_tools import ffmpeg_extract_subclip\n",
    "import warnings\n",
    "warnings.filterwarnings(\"ignore\")\n",
    "\n",
    "processor = AutoProcessor.from_pretrained(\"microsoft/git-large-vatex\")\n",
    "model = AutoModelForCausalLM.from_pretrained(\"microsoft/git-large-vatex\")\n",
    "\n",
    "# set seed for reproducability\n",
    "np.random.seed(45)\n",
    "\n",
    "\n",
    "def read_video_pyav(container, indices):\n",
    "    '''\n",
    "    Decode the video with PyAV decoder.\n",
    "    Args:\n",
    "        container (`av.container.input.InputContainer`): PyAV container.\n",
    "        indices (`List[int]`): List of frame indices to decode.\n",
    "    Returns:\n",
    "        result (np.ndarray): np array of decoded frames of shape (num_frames, height, width, 3).\n",
    "    '''\n",
    "    frames = []\n",
    "    container.seek(0)\n",
    "    start_index = indices[0]\n",
    "    end_index = indices[-1]\n",
    "    for i, frame in enumerate(container.decode(video=0)):\n",
    "        if i > end_index:\n",
    "            break\n",
    "        if i >= start_index and i in indices:\n",
    "            frames.append(frame)\n",
    "    return np.stack([x.to_ndarray(format=\"rgb24\") for x in frames])"
   ]
  },
  {
   "cell_type": "code",
   "execution_count": null,
   "id": "31039634",
   "metadata": {},
   "outputs": [],
   "source": [
    "ffmpeg_extract_subclip(r\"C:\\Users\\ragha\\Downloads\\stitched_videos\\Crank.Dircut.2006\\Crank.Dircut.2006.mp4\", 120, 180, targetname=r\"C:\\Users\\ragha\\Downloads\\stitched_videos\\Crank.Dircut.2006\\crank1.mp4\")\n",
    "ffmpeg_extract_subclip(r\"C:\\Users\\ragha\\Downloads\\stitched_videos\\Crank.Dircut.2006\\Crank.Dircut.2006.mp4\", 180, 240, targetname=r\"C:\\Users\\ragha\\Downloads\\stitched_videos\\Crank.Dircut.2006\\crank2.mp4\")\n",
    "ffmpeg_extract_subclip(r\"C:\\Users\\ragha\\Downloads\\stitched_videos\\Lord.of.War\\Lord.of.War.mp4\", 0, 60, targetname=r\"C:\\Users\\ragha\\Downloads\\stitched_videos\\Lord.of.War\\war1.mp4\")\n",
    "ffmpeg_extract_subclip(r\"C:\\Users\\ragha\\Downloads\\stitched_videos\\Lord.of.War\\Lord.of.War.mp4\", 240, 300, targetname=r\"C:\\Users\\ragha\\Downloads\\stitched_videos\\Lord.of.War\\war2.mp4\")\n",
    "\n",
    "for i in range(10):\n",
    "    target = r\"C:\\Users\\ragha\\Downloads\\stitched_videos\\Crank.Dircut.2006\\crank1\" + str(i) + \".mp4\"\n",
    "    ffmpeg_extract_subclip(r\"C:\\Users\\ragha\\Downloads\\stitched_videos\\Crank.Dircut.2006\\Crank.Dircut.2006.mp4\", 120 + (i*6), 120 + (i+1)*6, targetname=target)\n",
    "    \n",
    "for i in range(10):\n",
    "    target = r\"C:\\Users\\ragha\\Downloads\\stitched_videos\\Crank.Dircut.2006\\crank2\" + str(i) + \".mp4\"\n",
    "    ffmpeg_extract_subclip(r\"C:\\Users\\ragha\\Downloads\\stitched_videos\\Crank.Dircut.2006\\Crank.Dircut.2006.mp4\", 120 + (i*6), 120 + (i+1)*6, targetname=target)\n",
    "\n",
    "for i in range(10):\n",
    "    target = r\"C:\\Users\\ragha\\Downloads\\stitched_videos\\Lord.of.War\\war1\" + str(i) + \".mp4\"\n",
    "    ffmpeg_extract_subclip(r\"C:\\Users\\ragha\\Downloads\\stitched_videos\\Lord.of.War\\Lord.of.War.mp4\", 120 + (i*6), 120 + (i+1)*6, targetname=target)\n",
    "\n",
    "for i in range(10):\n",
    "    target = r\"C:\\Users\\ragha\\Downloads\\stitched_videos\\Lord.of.War\\war2\" + str(i) + \".mp4\"\n",
    "    ffmpeg_extract_subclip(r\"C:\\Users\\ragha\\Downloads\\stitched_videos\\Lord.of.War\\Lord.of.War.mp4\", 120 + (i*6), 120 + (i+1)*6, targetname=target)"
   ]
  },
  {
   "cell_type": "markdown",
   "id": "299fa68a",
   "metadata": {},
   "source": [
    "# Summarization of movie: Lord of War"
   ]
  },
  {
   "cell_type": "code",
   "execution_count": 63,
   "id": "57caeb8f",
   "metadata": {},
   "outputs": [],
   "source": [
    "def sample_frame_indices(clip_len, frame_sample_rate, seg_len):\n",
    "    converted_len = int(clip_len * frame_sample_rate)\n",
    "    end_idx = np.random.randint(converted_len, seg_len)\n",
    "    start_idx = end_idx - converted_len\n",
    "    indices = np.linspace(start_idx, end_idx, num=clip_len)\n",
    "    indices = np.clip(indices, start_idx, end_idx - 1).astype(np.int64)\n",
    "    return indices\n",
    "\n",
    "concat = \"\"\n",
    "for i in range(10):\n",
    "    target = r\"C:\\Users\\ragha\\Downloads\\stitched_videos\\Lord.of.War\\war2\" + str(i) + \".mp4\"\n",
    "    try:\n",
    "        container = av.open(target)\n",
    "\n",
    "        num_frames = model.config.num_image_with_embedding\n",
    "        indices = sample_frame_indices(\n",
    "            clip_len=num_frames, frame_sample_rate=4, seg_len=container.streams.video[0].frames\n",
    "        )\n",
    "        frames = read_video_pyav(container, indices)\n",
    "\n",
    "        pixel_values = processor(images=list(frames), return_tensors=\"pt\").pixel_values\n",
    "        \n",
    "        generated_ids = model.generate(pixel_values=pixel_values, max_length=50)\n",
    "#         print(i, processor.batch_decode(generated_ids, skip_special_tokens=True))\n",
    "        concat = concat + \" \" + processor.batch_decode(generated_ids, skip_special_tokens=True)[0] \n",
    "    except:\n",
    "        continue"
   ]
  },
  {
   "cell_type": "code",
   "execution_count": 62,
   "id": "55e6e15e",
   "metadata": {},
   "outputs": [
    {
     "data": {
      "text/plain": [
       "' a man is talking to another man in a leather jacket. a man wearing a military uniform and sunglasses is standing in a field and then a man wearing a medal is walking towards the camera. a man in a leather jacket and a soldier in a military uniform is holding a gun. a man runs in the desert and runs away from a truck. a group of people are watching a fire that is on fire and a truck is hitting it. a man is falling down in the desert and then falls to the ground. a man is running in the desert and kicking around and kicking his head. a man in a suit is lying on the ground and then a man in a suit is lying on his stomach and then a man in a suit is lying on his stomach.'"
      ]
     },
     "execution_count": 62,
     "metadata": {},
     "output_type": "execute_result"
    }
   ],
   "source": [
    "concat"
   ]
  },
  {
   "cell_type": "code",
   "execution_count": 2,
   "id": "cefd6765",
   "metadata": {},
   "outputs": [],
   "source": [
    "def sample_frame_indices(clip_len, frame_sample_rate, seg_len):\n",
    "    converted_len = int(clip_len * frame_sample_rate)\n",
    "    end_idx = np.random.randint(converted_len, seg_len)\n",
    "    start_idx = end_idx - converted_len\n",
    "    indices = np.linspace(start_idx, end_idx, num=clip_len)\n",
    "    indices = np.clip(indices, start_idx, end_idx - 1).astype(np.int64)\n",
    "    return indices\n",
    "\n",
    "concat = \"\"\n",
    "for i in range(10):\n",
    "    target = r\"C:\\Users\\ragha\\Downloads\\stitched_videos\\Lord.of.War\\war1\" + str(i) + \".mp4\"\n",
    "    try:\n",
    "        container = av.open(target)\n",
    "\n",
    "        num_frames = model.config.num_image_with_embedding\n",
    "        indices = sample_frame_indices(\n",
    "            clip_len=num_frames, frame_sample_rate=4, seg_len=container.streams.video[0].frames\n",
    "        )\n",
    "        frames = read_video_pyav(container, indices)\n",
    "\n",
    "        pixel_values = processor(images=list(frames), return_tensors=\"pt\").pixel_values\n",
    "        \n",
    "        generated_ids = model.generate(pixel_values=pixel_values, max_length=50)\n",
    "#         print(i, processor.batch_decode(generated_ids, skip_special_tokens=True))\n",
    "        concat = concat + \" \" + processor.batch_decode(generated_ids, skip_special_tokens=True)[0] \n",
    "    except:\n",
    "        continue"
   ]
  },
  {
   "cell_type": "code",
   "execution_count": 3,
   "id": "46580936",
   "metadata": {},
   "outputs": [
    {
     "data": {
      "text/plain": [
       "' a man is holding a gun and then a gun is seen shooting through a hole. a young boy is standing in front of a wall and looking down. two people are walking through a desert with large cement blocks. a man is sitting on a rock and talking about the history of the desert. a man wearing sunglasses and a leather jacket is shown in a scene from the film.'"
      ]
     },
     "execution_count": 3,
     "metadata": {},
     "output_type": "execute_result"
    }
   ],
   "source": [
    "concat"
   ]
  },
  {
   "cell_type": "markdown",
   "id": "0aed28cf",
   "metadata": {},
   "source": [
    "# Summarization of movie: Crank Dircut"
   ]
  },
  {
   "cell_type": "code",
   "execution_count": 4,
   "id": "8bcf81ae",
   "metadata": {},
   "outputs": [],
   "source": [
    "def sample_frame_indices(clip_len, frame_sample_rate, seg_len):\n",
    "    converted_len = int(clip_len * frame_sample_rate)\n",
    "    end_idx = np.random.randint(converted_len, seg_len)\n",
    "    start_idx = end_idx - converted_len\n",
    "    indices = np.linspace(start_idx, end_idx, num=clip_len)\n",
    "    indices = np.clip(indices, start_idx, end_idx - 1).astype(np.int64)\n",
    "    return indices\n",
    "\n",
    "concat = \"\"\n",
    "for i in range(10):\n",
    "    target = r\"C:\\Users\\ragha\\Downloads\\stitched_videos\\Crank.Dircut.2006\\crank1\" + str(i) + \".mp4\"\n",
    "    try:\n",
    "        container = av.open(target)\n",
    "\n",
    "        num_frames = model.config.num_image_with_embedding\n",
    "        indices = sample_frame_indices(\n",
    "            clip_len=num_frames, frame_sample_rate=4, seg_len=container.streams.video[0].frames\n",
    "        )\n",
    "        frames = read_video_pyav(container, indices)\n",
    "\n",
    "        pixel_values = processor(images=list(frames), return_tensors=\"pt\").pixel_values\n",
    "        \n",
    "        generated_ids = model.generate(pixel_values=pixel_values, max_length=50)\n",
    "#         print(i, processor.batch_decode(generated_ids, skip_special_tokens=True))\n",
    "        concat = concat + \" \" + processor.batch_decode(generated_ids, skip_special_tokens=True)[0] \n",
    "    except:\n",
    "        continue"
   ]
  },
  {
   "cell_type": "code",
   "execution_count": 5,
   "id": "5dabb09e",
   "metadata": {},
   "outputs": [
    {
     "data": {
      "text/plain": [
       "' a man is doing a flip in slow motion and then he jumps off a ladder. a man is shown shooting a man with a gun in his hand. a man is in a room and is practicing his moves to a song. a man is sitting in a chair and is wearing a plastic bag. a woman is talking to another woman and she is screaming. a man is laying down and then he is laying down and then he is laying down. a group of people are working in a factory and they are making some sort of clothing. a man is showing how to use a gun to paint a building. a man and a woman are climbing up a ladder and then a woman falls down.'"
      ]
     },
     "execution_count": 5,
     "metadata": {},
     "output_type": "execute_result"
    }
   ],
   "source": [
    "concat"
   ]
  },
  {
   "cell_type": "code",
   "execution_count": 6,
   "id": "5f0c5617",
   "metadata": {},
   "outputs": [],
   "source": [
    "def sample_frame_indices(clip_len, frame_sample_rate, seg_len):\n",
    "    converted_len = int(clip_len * frame_sample_rate)\n",
    "    end_idx = np.random.randint(converted_len, seg_len)\n",
    "    start_idx = end_idx - converted_len\n",
    "    indices = np.linspace(start_idx, end_idx, num=clip_len)\n",
    "    indices = np.clip(indices, start_idx, end_idx - 1).astype(np.int64)\n",
    "    return indices\n",
    "\n",
    "concat = \"\"\n",
    "for i in range(10):\n",
    "    target = r\"C:\\Users\\ragha\\Downloads\\stitched_videos\\Crank.Dircut.2006\\crank2\" + str(i) + \".mp4\"\n",
    "    try:\n",
    "        container = av.open(target)\n",
    "\n",
    "        num_frames = model.config.num_image_with_embedding\n",
    "        indices = sample_frame_indices(\n",
    "            clip_len=num_frames, frame_sample_rate=4, seg_len=container.streams.video[0].frames\n",
    "        )\n",
    "        frames = read_video_pyav(container, indices)\n",
    "\n",
    "        pixel_values = processor(images=list(frames), return_tensors=\"pt\").pixel_values\n",
    "        \n",
    "        generated_ids = model.generate(pixel_values=pixel_values, max_length=50)\n",
    "#         print(i, processor.batch_decode(generated_ids, skip_special_tokens=True))\n",
    "        concat = concat + \" \" + processor.batch_decode(generated_ids, skip_special_tokens=True)[0] \n",
    "    except:\n",
    "        continue"
   ]
  },
  {
   "cell_type": "code",
   "execution_count": 7,
   "id": "fad41649",
   "metadata": {},
   "outputs": [
    {
     "data": {
      "text/plain": [
       "' a man is climbing a ladder and then he climbs up the ladder. a man is seen shaving a knife on a man lying down. a man and a woman are standing in front of a building and they are holding hands. a man is holding a knife and a woman is holding it. a man and a woman are laughing and screaming at each other. a man is seen standing in a car and then he is seen getting out of the car. a man is sitting in a car and then he steps out of the door.'"
      ]
     },
     "execution_count": 7,
     "metadata": {},
     "output_type": "execute_result"
    }
   ],
   "source": [
    "concat"
   ]
  },
  {
   "cell_type": "code",
   "execution_count": null,
   "id": "c2f5b128",
   "metadata": {},
   "outputs": [],
   "source": []
  }
 ],
 "metadata": {
  "kernelspec": {
   "display_name": "Python 3 (ipykernel)",
   "language": "python",
   "name": "python3"
  },
  "language_info": {
   "codemirror_mode": {
    "name": "ipython",
    "version": 3
   },
   "file_extension": ".py",
   "mimetype": "text/x-python",
   "name": "python",
   "nbconvert_exporter": "python",
   "pygments_lexer": "ipython3",
   "version": "3.9.12"
  }
 },
 "nbformat": 4,
 "nbformat_minor": 5
}
