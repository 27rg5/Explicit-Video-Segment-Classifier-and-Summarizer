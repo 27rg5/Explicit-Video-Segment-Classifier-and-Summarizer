{
 "cells": [
  {
   "cell_type": "code",
   "execution_count": 1,
   "id": "e49b4c88",
   "metadata": {},
   "outputs": [
    {
     "name": "stderr",
     "output_type": "stream",
     "text": [
      "Using cache found in C:\\Users\\ragha/.cache\\torch\\hub\\facebookresearch_pytorchvideo_main\n"
     ]
    }
   ],
   "source": [
    "import torch\n",
    "# Choose the `slowfast_r50` model \n",
    "model = torch.hub.load('facebookresearch/pytorchvideo', 'slowfast_r50', pretrained=True)\n",
    "# Set to GPU or CPU\n",
    "device = \"cpu\"\n",
    "model = model.eval()\n",
    "model = model.to(device)"
   ]
  },
  {
   "cell_type": "code",
   "execution_count": 2,
   "id": "55dcee84",
   "metadata": {},
   "outputs": [
    {
     "name": "stderr",
     "output_type": "stream",
     "text": [
      "C:\\Users\\ragha\\AppData\\Roaming\\Python\\Python39\\site-packages\\torchvision\\transforms\\_functional_video.py:6: UserWarning: The 'torchvision.transforms._functional_video' module is deprecated since 0.12 and will be removed in 0.14. Please use the 'torchvision.transforms.functional' module instead.\n",
      "  warnings.warn(\n",
      "C:\\Users\\ragha\\AppData\\Roaming\\Python\\Python39\\site-packages\\torchvision\\transforms\\_transforms_video.py:25: UserWarning: The 'torchvision.transforms._transforms_video' module is deprecated since 0.12 and will be removed in 0.14. Please use the 'torchvision.transforms' module instead.\n",
      "  warnings.warn(\n"
     ]
    }
   ],
   "source": [
    "from typing import Dict\n",
    "import json\n",
    "import urllib\n",
    "from torchvision.transforms import Compose, Lambda\n",
    "from torchvision.transforms._transforms_video import (\n",
    "    CenterCropVideo,\n",
    "    NormalizeVideo,\n",
    ")\n",
    "from pytorchvideo.data.encoded_video import EncodedVideo\n",
    "from pytorchvideo.transforms import (\n",
    "    ApplyTransformToKey,\n",
    "    ShortSideScale,\n",
    "    UniformTemporalSubsample,\n",
    "    UniformCropVideo\n",
    ") "
   ]
  },
  {
   "cell_type": "code",
   "execution_count": 3,
   "id": "64e3debc",
   "metadata": {},
   "outputs": [],
   "source": [
    "# # USING GPU\n",
    "# print(torch.cuda.device_count())\n",
    "# device = torch.device(\"cuda:0\" if torch.cuda.is_available() else \"cpu\")\n",
    "# device"
   ]
  },
  {
   "cell_type": "code",
   "execution_count": 4,
   "id": "b4421ef1",
   "metadata": {},
   "outputs": [],
   "source": [
    "def slowfast(video_path):\n",
    "    \n",
    "    side_size = 256\n",
    "    mean = [0.45, 0.45, 0.45]\n",
    "    std = [0.225, 0.225, 0.225]\n",
    "    crop_size = 256\n",
    "    num_frames = 32\n",
    "    sampling_rate = 2\n",
    "    frames_per_second = 30\n",
    "    slowfast_alpha = 4\n",
    "    num_clips = 10\n",
    "    num_crops = 3\n",
    "    \n",
    "    class PackPathway(torch.nn.Module):\n",
    "        \"\"\"\n",
    "        Transform for converting video frames as a list of tensors. \n",
    "        \"\"\"\n",
    "        def __init__(self):\n",
    "            super().__init__()\n",
    "\n",
    "        def forward(self, frames: torch.Tensor):\n",
    "            fast_pathway = frames\n",
    "            # Perform temporal sampling from the fast pathway.\n",
    "            slow_pathway = torch.index_select(\n",
    "                frames,\n",
    "                1,\n",
    "                torch.linspace(\n",
    "                    0, frames.shape[1] - 1, frames.shape[1] // slowfast_alpha\n",
    "                ).long(),\n",
    "            )\n",
    "            frame_list = [slow_pathway, fast_pathway]\n",
    "            return frame_list\n",
    "\n",
    "    \n",
    "    transform =  ApplyTransformToKey(\n",
    "    key=\"video\",\n",
    "    transform=Compose(\n",
    "        [\n",
    "            UniformTemporalSubsample(num_frames),\n",
    "            Lambda(lambda x: x/255.0),\n",
    "            NormalizeVideo(mean, std),\n",
    "            ShortSideScale(\n",
    "                size=side_size\n",
    "            ),\n",
    "            CenterCropVideo(crop_size),\n",
    "            PackPathway()\n",
    "        ]),)\n",
    "    \n",
    "    # The duration of the input clip is also specific to the model.\n",
    "    clip_duration = (num_frames * sampling_rate)/frames_per_second\n",
    "    \n",
    "    # Select the duration of the clip to load by specifying the start and end duration\n",
    "    # The start_sec should correspond to where the action occurs in the video\n",
    "    start_sec = 0\n",
    "    end_sec = start_sec + clip_duration\n",
    "\n",
    "    # Initialize an EncodedVideo helper class and load the video\n",
    "    video = EncodedVideo.from_path(video_path)\n",
    "\n",
    "    # Load the desired clip\n",
    "    video_data = video.get_clip(start_sec=start_sec, end_sec=end_sec)\n",
    "\n",
    "    # Apply a transform to normalize the video input\n",
    "    video_data = transform(video_data)\n",
    "\n",
    "    # Move the inputs to the desired device\n",
    "    inputs = video_data[\"video\"]\n",
    "    inputs = [i.to(device)[None, ...] for i in inputs]\n",
    "    \n",
    "    # Pass the input clip through the model\n",
    "    preds = model(inputs)\n",
    "\n",
    "    # Get the predicted classes\n",
    "    post_act = torch.nn.Softmax(dim=1)\n",
    "    preds = post_act(preds)\n",
    "    pred_classes = preds.topk(k=5).indices[0]\n",
    "\n",
    "    # # Map the predicted classes to the label names\n",
    "    # pred_class_names = [kinetics_id_to_classname[int(i)] for i in pred_classes]\n",
    "    # print(\"Top 5 predicted labels: %s\" % \", \".join(pred_class_names))\n",
    "    \n",
    "    return pred_classes"
   ]
  },
  {
   "cell_type": "code",
   "execution_count": 5,
   "id": "34f751d4",
   "metadata": {},
   "outputs": [
    {
     "data": {
      "text/plain": [
       "tensor([352, 101, 100, 242, 247])"
      ]
     },
     "execution_count": 5,
     "metadata": {},
     "output_type": "execute_result"
    }
   ],
   "source": [
    "path = r\"C:\\Users\\ragha\\Downloads\\dbNudeDetectionVideos\\nonNude\\BeforeTheDevilKnows\\segment01.avi\"\n",
    "ans = slowfast(path)\n",
    "ans"
   ]
  },
  {
   "cell_type": "code",
   "execution_count": null,
   "id": "54169304",
   "metadata": {},
   "outputs": [],
   "source": []
  }
 ],
 "metadata": {
  "kernelspec": {
   "display_name": "Python 3 (ipykernel)",
   "language": "python",
   "name": "python3"
  },
  "language_info": {
   "codemirror_mode": {
    "name": "ipython",
    "version": 3
   },
   "file_extension": ".py",
   "mimetype": "text/x-python",
   "name": "python",
   "nbconvert_exporter": "python",
   "pygments_lexer": "ipython3",
   "version": "3.9.12"
  }
 },
 "nbformat": 4,
 "nbformat_minor": 5
}
